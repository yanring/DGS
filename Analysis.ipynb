{
 "cells": [
  {
   "cell_type": "code",
   "execution_count": 4,
   "metadata": {},
   "outputs": [
    {
     "ename": "ModuleNotFoundError",
     "evalue": "No module named 'matplotlib'",
     "output_type": "error",
     "traceback": [
      "\u001b[0;31m---------------------------------------------------------------------------\u001b[0m",
      "\u001b[0;31mModuleNotFoundError\u001b[0m                       Traceback (most recent call last)",
      "\u001b[0;32m<ipython-input-4-41e480d7a1a2>\u001b[0m in \u001b[0;36m<module>\u001b[0;34m()\u001b[0m\n\u001b[0;32m----> 1\u001b[0;31m \u001b[0;32mimport\u001b[0m \u001b[0mmatplotlib\u001b[0m\u001b[0;34m.\u001b[0m\u001b[0mpyplot\u001b[0m \u001b[0;32mas\u001b[0m \u001b[0mplt\u001b[0m\u001b[0;34m\u001b[0m\u001b[0m\n\u001b[0m\u001b[1;32m      2\u001b[0m \u001b[0;32mimport\u001b[0m \u001b[0mpandas\u001b[0m \u001b[0;32mas\u001b[0m \u001b[0mpd\u001b[0m\u001b[0;34m\u001b[0m\u001b[0m\n",
      "\u001b[0;31mModuleNotFoundError\u001b[0m: No module named 'matplotlib'"
     ]
    }
   ],
   "source": [
    "import matplotlib.pyplot as plt\n",
    "import pandas as pd"
   ]
  },
  {
   "cell_type": "code",
   "execution_count": 8,
   "metadata": {},
   "outputs": [
    {
     "name": "stdout",
     "output_type": "stream",
     "text": [
      "Traceback (most recent call last):\r\n",
      "  File \"/usr/local/lib/python3.6/site-packages/pkg_resources/__init__.py\", line 681, in _build_master\r\n",
      "    ws.require(__requires__)\r\n",
      "  File \"/usr/local/lib/python3.6/site-packages/pkg_resources/__init__.py\", line 999, in require\r\n",
      "    needed = self.resolve(parse_requirements(requirements))\r\n",
      "  File \"/usr/local/lib/python3.6/site-packages/pkg_resources/__init__.py\", line 890, in resolve\r\n",
      "    raise VersionConflict(dist, req).with_context(dependent_req)\r\n",
      "pkg_resources.VersionConflict: (pip 9.0.2 (/usr/local/lib/python3.6/site-packages), Requirement.parse('pip==10.0.1'))\r\n",
      "\r\n",
      "During handling of the above exception, another exception occurred:\r\n",
      "\r\n",
      "Traceback (most recent call last):\r\n",
      "  File \"/usr/local/bin/pip\", line 6, in <module>\r\n",
      "    from pkg_resources import load_entry_point\r\n",
      "  File \"/usr/local/lib/python3.6/site-packages/pkg_resources/__init__.py\", line 3195, in <module>\r\n",
      "    @_call_aside\r\n",
      "  File \"/usr/local/lib/python3.6/site-packages/pkg_resources/__init__.py\", line 3179, in _call_aside\r\n",
      "    f(*args, **kwargs)\r\n",
      "  File \"/usr/local/lib/python3.6/site-packages/pkg_resources/__init__.py\", line 3208, in _initialize_master_working_set\r\n",
      "    working_set = WorkingSet._build_master()\r\n",
      "  File \"/usr/local/lib/python3.6/site-packages/pkg_resources/__init__.py\", line 683, in _build_master\r\n",
      "    return cls._build_from_requirements(__requires__)\r\n",
      "  File \"/usr/local/lib/python3.6/site-packages/pkg_resources/__init__.py\", line 696, in _build_from_requirements\r\n",
      "    dists = ws.resolve(reqs, Environment())\r\n",
      "  File \"/usr/local/lib/python3.6/site-packages/pkg_resources/__init__.py\", line 885, in resolve\r\n",
      "    raise DistributionNotFound(req, requirers)\r\n",
      "pkg_resources.DistributionNotFound: The 'pip==10.0.1' distribution was not found and is required by the application\r\n"
     ]
    }
   ],
   "source": [
    "!pip install matplotlib"
   ]
  },
  {
   "cell_type": "code",
   "execution_count": 3,
   "metadata": {},
   "outputs": [
    {
     "ename": "NameError",
     "evalue": "name 'pd' is not defined",
     "output_type": "error",
     "traceback": [
      "\u001b[0;31m---------------------------------------------------------------------------\u001b[0m",
      "\u001b[0;31mNameError\u001b[0m                                 Traceback (most recent call last)",
      "\u001b[0;32m<ipython-input-3-40931f35b66e>\u001b[0m in \u001b[0;36m<module>\u001b[0;34m()\u001b[0m\n\u001b[0;32m----> 1\u001b[0;31m \u001b[0mdf\u001b[0m \u001b[0;34m=\u001b[0m \u001b[0mpd\u001b[0m\u001b[0;34m.\u001b[0m\u001b[0mread_csv\u001b[0m\u001b[0;34m(\u001b[0m\u001b[0;34m'single.csv'\u001b[0m\u001b[0;34m)\u001b[0m\u001b[0;34m\u001b[0m\u001b[0m\n\u001b[0m\u001b[1;32m      2\u001b[0m \u001b[0mdf1\u001b[0m \u001b[0;34m=\u001b[0m \u001b[0mpd\u001b[0m\u001b[0;34m.\u001b[0m\u001b[0mread_csv\u001b[0m\u001b[0;34m(\u001b[0m\u001b[0;34m'node1.csv'\u001b[0m\u001b[0;34m)\u001b[0m\u001b[0;34m\u001b[0m\u001b[0m\n\u001b[1;32m      3\u001b[0m \u001b[0mdf2\u001b[0m \u001b[0;34m=\u001b[0m \u001b[0mpd\u001b[0m\u001b[0;34m.\u001b[0m\u001b[0mread_csv\u001b[0m\u001b[0;34m(\u001b[0m\u001b[0;34m'node2.csv'\u001b[0m\u001b[0;34m)\u001b[0m\u001b[0;34m\u001b[0m\u001b[0m\n",
      "\u001b[0;31mNameError\u001b[0m: name 'pd' is not defined"
     ]
    }
   ],
   "source": [
    "df = pd.read_csv('single.csv')\n",
    "df1 = pd.read_csv('node1.csv')\n",
    "df2 = pd.read_csv('node2.csv')"
   ]
  },
  {
   "cell_type": "code",
   "execution_count": null,
   "metadata": {},
   "outputs": [],
   "source": [
    "df['timestamp'] = pd.to_datetime(df['timestamp'])\n",
    "df1['timestamp'] = pd.to_datetime(df1['timestamp'])\n",
    "df2['timestamp'] = pd.to_datetime(df2['timestamp'])\n",
    "\n",
    "df['timestamp'] -= df['timestamp'].min()\n",
    "df1['timestamp'] -= df1['timestamp'].min()\n",
    "df2['timestamp'] -= df2['timestamp'].min()"
   ]
  },
  {
   "cell_type": "code",
   "execution_count": null,
   "metadata": {},
   "outputs": [],
   "source": [
    "display(df.head())\n",
    "display(df1.head())\n",
    "display(df2.head())"
   ]
  },
  {
   "cell_type": "code",
   "execution_count": null,
   "metadata": {
    "scrolled": false
   },
   "outputs": [],
   "source": [
    "fig = plt.figure(figsize=(20, 10))\n",
    "\n",
    "#df = df.dropna()\n",
    "#df1 = df1.dropna()\n",
    "#df2 = df2.dropna()\n",
    "\n",
    "plt.plot(df['index'],df['training_loss'].rolling(50).mean(), label='GPU', color='b', )\n",
    "plt.plot(df1['index'],df1['training_loss'].rolling(50).mean(), label='distbelief 1', color='r')\n",
    "plt.plot(df2['index'],df2['training_loss'].rolling(50).mean(), label='distbelief 2', color='orange')\n",
    "\n",
    "plt.ylabel('Training Accuracy')\n",
    "plt.xlabel('# of iterations')\n",
    "plt.legend()\n",
    "plt.title(\"Training Accuracy vs. # of iterations(50 iteration rolling average)\")\n",
    "plt.savefig('fig1.png')\n",
    "plt.show()"
   ]
  },
  {
   "cell_type": "code",
   "execution_count": null,
   "metadata": {},
   "outputs": [],
   "source": []
  }
 ],
 "metadata": {
  "kernelspec": {
   "display_name": "Python 3",
   "language": "python",
   "name": "python3"
  }
 },
 "nbformat": 4,
 "nbformat_minor": 2
}
